{
 "cells": [
  {
   "cell_type": "markdown",
   "id": "e93ed03f-9626-40d9-b0c2-ab1ef61a3090",
   "metadata": {},
   "source": [
    "# Exam paper: Optimal Energy mix in Greenland\n",
    "### _Group 1: Marie Louise, Sofie & Caroline_"
   ]
  },
  {
   "cell_type": "markdown",
   "id": "1a04d1bc-0f04-44cb-a717-3e300628bdf7",
   "metadata": {},
   "source": [
    "We import the basic packages:"
   ]
  },
  {
   "cell_type": "code",
   "execution_count": 1,
   "id": "41846a2e",
   "metadata": {},
   "outputs": [],
   "source": [
    "%run stdPackages.ipynb"
   ]
  },
  {
   "cell_type": "code",
   "execution_count": 2,
   "id": "28a2e3a1",
   "metadata": {},
   "outputs": [],
   "source": [
    "%load_ext autoreload\n",
    "%autoreload 2"
   ]
  },
  {
   "cell_type": "code",
   "execution_count": 3,
   "id": "a0a1fcf4-c9cf-492d-8efa-8b1f15b2d752",
   "metadata": {
    "tags": []
   },
   "outputs": [],
   "source": [
    "from pyDbs import *\n",
    "from IPython.display import Image\n",
    "figs_path = os.path.join(d['curr'],'Figs')\n"
   ]
  },
  {
   "cell_type": "markdown",
   "id": "4da0dd40-430f-46ee-88af-ddc39e4fc94b",
   "metadata": {},
   "source": [
    "We create a path to data"
   ]
  },
  {
   "cell_type": "code",
   "execution_count": 4,
   "id": "1657d445-6451-4131-a49d-672e07e147be",
   "metadata": {
    "tags": []
   },
   "outputs": [
    {
     "name": "stdout",
     "output_type": "stream",
     "text": [
      "c:\\Users\\CAAL\\OneDrive - COWI\\Desktop\\Nuuk-Energy-mix\\Exercises\\E44\\Data\\EE_exam data_version2.xlsx\n"
     ]
    }
   ],
   "source": [
    "import os \n",
    "path_to_data = os.path.join(d['curr'],'Data','EE_exam data_version2.xlsx')\n",
    "print(path_to_data)"
   ]
  },
  {
   "cell_type": "code",
   "execution_count": 5,
   "id": "c1c95571",
   "metadata": {},
   "outputs": [],
   "source": [
    "#solution['Generation'].groupby(level=0).plot()\n",
    "#solution['LoadVariation'].plot()\n",
    "#solution['Generation']\n",
    "#solution['Load']*db['LoadGeneration'].plot()"
   ]
  },
  {
   "cell_type": "code",
   "execution_count": 6,
   "id": "d4056e6c-95d9-4c64-afdb-15a0f4c19504",
   "metadata": {
    "tags": []
   },
   "outputs": [],
   "source": [
    "kwargs = {'variables': ['Fundamentals', 'Load', 'Generators_Other'],\n",
    "        'maps': ['Generators_Categories','hMaps'],\n",
    "        'variable2D': ['HourlyVariation','Generators_FuelMix', 'Precipitation'],\n",
    "        'scalars': ['Scalars']}\n",
    "\n",
    "db = read.dbFromWB(path_to_data, kwargs)\n",
    "readSets(db)"
   ]
  },
  {
   "cell_type": "markdown",
   "id": "9d6ea91c-a0e4-4371-b115-c828bf205f49",
   "metadata": {
    "tags": []
   },
   "source": [
    "Finally, make sure your code is correct by solving for the baseline scenario, where this is no storage:"
   ]
  },
  {
   "cell_type": "code",
   "execution_count": 7,
   "id": "506ccb7c-c363-435a-8bdd-f5996630d4d1",
   "metadata": {
    "tags": []
   },
   "outputs": [
    {
     "name": "stdout",
     "output_type": "stream",
     "text": [
      "Solution status 0: Optimization terminated successfully. (HiGHS Status 7: Optimal)\n"
     ]
    }
   ],
   "source": [
    "from Exam import *\n",
    "m = mSimple(db)\n",
    "m()"
   ]
  },
  {
   "cell_type": "markdown",
   "id": "18a761a3",
   "metadata": {},
   "source": [
    "__Control__\n",
    "\n",
    "We control if we leave _charge_ out of the model, since we set it exogeniously"
   ]
  },
  {
   "cell_type": "code",
   "execution_count": 8,
   "id": "8b72faa0",
   "metadata": {},
   "outputs": [
    {
     "data": {
      "text/plain": [
       "dict_keys(['EmissionIntensity', 'EmissionTax', 'FuelPrice', 'Load', 'LoadVariation', 'GeneratingCapacity', 'effS', 'sCap', 'OtherMC', 'id2hvt', 'id2tech', 'h2HourOfTheDay', 'h2Weekday', 'h2Week', 'h2Month', 'CapVariation', 'FuelMix', 'Precipitation', 'MWP', 'hydro_scalar', 'BFt', 'EmissionType', 'c', 'h', 'id', 'hvt', 'h_constr', 'id_constr', 'mc', 'discharge', 'Generation', 'HourlyDemand', 'stored', 'λ_LawOfMotion', 'λ_equilibrium', 'λ_discharge', 'λ_Generation', 'λ_HourlyDemand', 'λ_stored', 'Welfare', 'meanConsumerPrice', 'capacityFactor', 'marginalSystemCosts', 'marginalEconomicValue', 'capturePrice', 'marketValueFactor', 'consumerSurplus', 'producerSurplus'])"
      ]
     },
     "execution_count": 8,
     "metadata": {},
     "output_type": "execute_result"
    }
   ],
   "source": [
    "m.db.symbols.keys()"
   ]
  },
  {
   "cell_type": "markdown",
   "id": "1a1574f1-1868-4bd0-9172-e2d9aaec8e01",
   "metadata": {
    "tags": []
   },
   "source": [
    "Save solution for later:"
   ]
  },
  {
   "cell_type": "code",
   "execution_count": 9,
   "id": "c152c492-51ad-45c3-aa9c-42e6316e3e85",
   "metadata": {
    "tags": []
   },
   "outputs": [],
   "source": [
    "base_db = m.db.copy()"
   ]
  },
  {
   "cell_type": "markdown",
   "id": "ccebe24b-e47d-4546-bc02-69d9addd1616",
   "metadata": {
    "tags": []
   },
   "source": [
    "In the following, we aggregate the fuel types to the following types:"
   ]
  },
  {
   "cell_type": "code",
   "execution_count": 10,
   "id": "98eb9678-83df-4a7c-8c27-d742839ab841",
   "metadata": {
    "tags": []
   },
   "outputs": [],
   "source": [
    "agg_BFt = {\n",
    "    'Fueloil':'Oil','Gasoil':'Oil', \n",
    "    'Straw':'Biomass','WoodPellets':'Biomass','WoodChips':'Biomass','WoodWaste':'Biomass',\n",
    "    'Biogas':'Other Bio','BioOil':'Other Bio',\n",
    "    'Coal':'Coal',\n",
    "    'NatGas':'Natural gas',\n",
    "    'Waste':'Waste'\n",
    "}"
   ]
  },
  {
   "cell_type": "markdown",
   "id": "5b21522d",
   "metadata": {},
   "source": [
    "### __Descriptives__"
   ]
  },
  {
   "cell_type": "code",
   "execution_count": 11,
   "id": "68def12d",
   "metadata": {},
   "outputs": [],
   "source": [
    "#m.db['HourlyDemand']['c1', :].plot()\n",
    "#plt.title('Hourly demand in electricity')"
   ]
  },
  {
   "cell_type": "markdown",
   "id": "5a0fb943-8e40-47fb-aaf7-446effe3fa15",
   "metadata": {
    "tags": []
   },
   "source": [
    "# The optimal combination of wind and hydro"
   ]
  },
  {
   "cell_type": "markdown",
   "id": "da4abf45",
   "metadata": {},
   "source": [
    "First, we define the vectors. \n",
    "\n",
    "Since Buksefjordsværket in Nuuk already has a capacity of 45 mW, and the planned expantion of the hydro power plant is 55 mW (in all 100 mW), the vector of hydro goes from 45 to 100. \n",
    "\n",
    "Thus, the vector of wind goes from 0 to 55 mW. \n",
    "\n",
    "Each vector contains five points, and so we have 25 combinations of hydro and wind."
   ]
  },
  {
   "cell_type": "code",
   "execution_count": 12,
   "id": "89a3fc4b",
   "metadata": {},
   "outputs": [
    {
     "name": "stdout",
     "output_type": "stream",
     "text": [
      "Vector for hydro: [ 45.    58.75  72.5   86.25 100.  ]\n",
      "Vector for wind: [ 0.   13.75 27.5  41.25 55.  ]\n"
     ]
    }
   ],
   "source": [
    "# Defining vectors for wind and hydro\n",
    "vec_hydro = np.linspace(45, 100, 5)\n",
    "vec_wind = np.linspace(0, 55, 5)\n",
    "\n",
    "# printing vectors\n",
    "print(\"Vector for hydro:\", vec_hydro)\n",
    "print(\"Vector for wind:\", vec_wind)"
   ]
  },
  {
   "cell_type": "markdown",
   "id": "653f472d",
   "metadata": {},
   "source": [
    "### __Electricity__"
   ]
  },
  {
   "cell_type": "markdown",
   "id": "b8e45539-341e-4d97-b40b-8b422bf761d0",
   "metadata": {},
   "source": [
    "Secondly, we create two dataframes representing electricity capacity of hydro and wind, respectively. "
   ]
  },
  {
   "cell_type": "code",
   "execution_count": 13,
   "id": "18f396dd-39ae-475f-9268-60685510f1f6",
   "metadata": {
    "tags": []
   },
   "outputs": [],
   "source": [
    "# defining of minimum electricity\n",
    "min_elec = [vec_hydro[0], vec_wind[0]]\n",
    "\n",
    "# definition of max electricity\n",
    "max_elec = [vec_hydro[4], vec_wind[4]]\n",
    "\n",
    "# Defining the loop\n",
    "loop = pd.RangeIndex(25, name='loop')\n",
    "\n",
    "# lower and upper bound for hydro\n",
    "v0_ECap_Hydro = pd.Series(min_elec[0], index=getTechs(['Storage'], m.db))\n",
    "vT_ECap_Hydro = pd.Series(max_elec[0], index=getTechs(['Storage'], m.db))\n",
    "\n",
    "# Grid for hydro\n",
    "grid_ECap_Hydro = pd.Series([vec_hydro[i] for i in range(5) for _ in range(5)], index=pd.MultiIndex.from_product([loop, [db['id'][-1]]], names=['loop', 'id']), name='GeneratingCapacity')\n",
    "\n",
    "# lower and upper bound for wind\n",
    "v0_ECap_Wind = pd.Series(min_elec[1], index=getTechs(['Standard'], m.db))\n",
    "vT_ECap_Wind = pd.Series(max_elec[1], index=getTechs(['Standard'], m.db))\n",
    "\n",
    "# grid for wind\n",
    "grid_ECap_Wind = pd.Series([vec_wind[i] for _ in range(5) for i in range(5)], index=pd.MultiIndex.from_product([loop, [db['id'][0]]], names=['loop', 'id']), name='GeneratingCapacity')\n"
   ]
  },
  {
   "cell_type": "markdown",
   "id": "73b756c9",
   "metadata": {},
   "source": [
    "### __Storage__"
   ]
  },
  {
   "cell_type": "markdown",
   "id": "8ae571b5",
   "metadata": {},
   "source": [
    "Third, we create a dataframe representing storage capacity based on the reservior of the hydro power plant"
   ]
  },
  {
   "cell_type": "code",
   "execution_count": 14,
   "id": "1136eb20",
   "metadata": {},
   "outputs": [],
   "source": [
    "# The \"energy storage to power\"-ratio/storage duration \n",
    "E2P = 5000\n",
    "\n",
    "# Defining min storage\n",
    "min_storage = vec_hydro[0]\n",
    "\n",
    "# defining max storage\n",
    "max_storage = vec_hydro[4]\n",
    "\n",
    "# Defining a storage vector\n",
    "vec_storage = np.linspace(min_storage, max_storage, 5)*E2P\n",
    "\n",
    "# defining lower and upper bound for electricity storage by multiplying E2P with the energy production\n",
    "v0_SCap = pd.Series(min_storage, index = getTechs(['Storage'], m.db))*E2P\n",
    "vT_SCap = pd.Series(max_storage, index = v0_SCap.index)*E2P\n",
    "\n",
    "# Second grid with a storage cap running through loop 2\n",
    "grid_SCap = pd.Series([vec_storage[i] for i in range(5) for _ in range(5)], index=pd.MultiIndex.from_product([loop, db['sCap'].index], names=['loop', 'id']), name='sCap')"
   ]
  },
  {
   "cell_type": "markdown",
   "id": "4ad07585",
   "metadata": {},
   "source": [
    "### __Scalar of precipitation__ "
   ]
  },
  {
   "cell_type": "code",
   "execution_count": 15,
   "id": "ae1df2e7",
   "metadata": {},
   "outputs": [],
   "source": [
    "# Defining min storage\n",
    "min_hydro_scalar = 1\n",
    "\n",
    "# defining max storage\n",
    "max_hydro_scalar = 6\n",
    "\n",
    "# Defining a storage vector\n",
    "vec_hydro_scalar = np.linspace(min_hydro_scalar, max_hydro_scalar, 5)\n",
    "\n",
    "# defining lower and upper bound for electricity storage by multiplying E2P with the energy production\n",
    "v0_HydroScalar = pd.Series(min_hydro_scalar)\n",
    "vT_HydroScalar = pd.Series(max_hydro_scalar)\n",
    "\n",
    "# Second grid with a storage cap running through loop 2\n",
    "grid_HydroScalar = pd.Series([vec_hydro_scalar[i] for i in range(5) for _ in range(5)], index=loop, name='hydro_scalar')"
   ]
  },
  {
   "cell_type": "markdown",
   "id": "c1c68d82",
   "metadata": {},
   "source": [
    "### __Solving the model__"
   ]
  },
  {
   "cell_type": "markdown",
   "id": "16871bbc",
   "metadata": {},
   "source": [
    "Then, we extract the relevant variables to solve the model:"
   ]
  },
  {
   "cell_type": "code",
   "execution_count": 16,
   "id": "e304dbac",
   "metadata": {},
   "outputs": [
    {
     "data": {
      "text/plain": [
       "['EmissionIntensity',\n",
       " 'EmissionTax',\n",
       " 'FuelPrice',\n",
       " 'Load',\n",
       " 'LoadVariation',\n",
       " 'GeneratingCapacity',\n",
       " 'effS',\n",
       " 'sCap',\n",
       " 'OtherMC',\n",
       " 'id2hvt',\n",
       " 'id2tech',\n",
       " 'h2HourOfTheDay',\n",
       " 'h2Weekday',\n",
       " 'h2Week',\n",
       " 'h2Month',\n",
       " 'CapVariation',\n",
       " 'FuelMix',\n",
       " 'Precipitation',\n",
       " 'MWP',\n",
       " 'hydro_scalar',\n",
       " 'BFt',\n",
       " 'EmissionType',\n",
       " 'c',\n",
       " 'h',\n",
       " 'id',\n",
       " 'hvt',\n",
       " 'h_constr',\n",
       " 'id_constr',\n",
       " 'mc',\n",
       " 'discharge',\n",
       " 'Generation',\n",
       " 'HourlyDemand',\n",
       " 'stored',\n",
       " 'λ_LawOfMotion',\n",
       " 'λ_equilibrium',\n",
       " 'λ_discharge',\n",
       " 'λ_Generation',\n",
       " 'λ_HourlyDemand',\n",
       " 'λ_stored',\n",
       " 'Welfare',\n",
       " 'meanConsumerPrice',\n",
       " 'capacityFactor',\n",
       " 'marginalSystemCosts',\n",
       " 'marginalEconomicValue',\n",
       " 'capturePrice',\n",
       " 'marketValueFactor',\n",
       " 'consumerSurplus',\n",
       " 'producerSurplus']"
      ]
     },
     "execution_count": 16,
     "metadata": {},
     "output_type": "execute_result"
    }
   ],
   "source": [
    "list(m.db.symbols.keys())"
   ]
  },
  {
   "cell_type": "code",
   "execution_count": 17,
   "id": "0470b0e3-5d5f-44e7-986e-ee7fa17c9a9f",
   "metadata": {
    "tags": []
   },
   "outputs": [],
   "source": [
    "extract = ['capturePrice', 'LoadVariation', 'GeneratingCapacity', 'marginalSystemCosts','Generation', 'discharge','capturePrice','marketValueFactor','capacityFactor','marginalEconomicValue','consumerSurplus','producerSurplus','Welfare']"
   ]
  },
  {
   "cell_type": "markdown",
   "id": "cea7f02e",
   "metadata": {},
   "source": [
    "And finally, we solve the model:"
   ]
  },
  {
   "cell_type": "code",
   "execution_count": 18,
   "id": "ed7d8bc4-55f6-41ce-81dd-a38ca8d360d4",
   "metadata": {
    "tags": []
   },
   "outputs": [],
   "source": [
    "solution = m.loopSolveExtract(loop, [grid_ECap_Wind, grid_ECap_Hydro, grid_SCap, grid_HydroScalar], extract)"
   ]
  },
  {
   "cell_type": "code",
   "execution_count": 48,
   "id": "cbac5b7b",
   "metadata": {},
   "outputs": [
    {
     "data": {
      "text/plain": [
       "loop\n",
       "0     1.129032e+07\n",
       "1     1.387739e+07\n",
       "2     1.646446e+07\n",
       "3     1.905152e+07\n",
       "4     2.163859e+07\n",
       "5     2.540322e+07\n",
       "6     2.799029e+07\n",
       "7     3.057736e+07\n",
       "8     3.316443e+07\n",
       "9     3.575149e+07\n",
       "10    3.575149e+07\n",
       "11    3.575149e+07\n",
       "12    3.575149e+07\n",
       "13    3.575149e+07\n",
       "14    3.575149e+07\n",
       "15    3.575149e+07\n",
       "16    3.575149e+07\n",
       "17    3.575149e+07\n",
       "18    3.575149e+07\n",
       "19    3.575149e+07\n",
       "20    3.575149e+07\n",
       "21    3.575149e+07\n",
       "22    3.575149e+07\n",
       "23    3.575149e+07\n",
       "24    3.575149e+07\n",
       "dtype: float64"
      ]
     },
     "execution_count": 48,
     "metadata": {},
     "output_type": "execute_result"
    }
   ],
   "source": [
    "solution['Welfare']"
   ]
  },
  {
   "cell_type": "code",
   "execution_count": 20,
   "id": "b6accb53",
   "metadata": {},
   "outputs": [
    {
     "data": {
      "image/png": "[encoded data removed]",
      "text/plain": [
       "<Figure size 800x550 with 4 Axes>"
      ]
     },
     "metadata": {},
     "output_type": "display_data"
    }
   ],
   "source": [
    "# Make dataframe\n",
    "int_id = adj.rc_pd(m.db['id2hvt'], pd.Index(['Wind'], name = 'hvt')).droplevel('hvt')\n",
    "df_sort =  pd.concat([\n",
    "    adj.rc_pd(m.hourlyGeneratingCap,int_id).groupby('h').sum().rename('E').astype(float),\n",
    "    m.hourlyLoad.rename('L').astype(float),\n",
    "    m.db['marginalSystemCosts'].rename('p').astype(float)\n",
    "],axis=1)\n",
    "\n",
    "# Calculate residual demand\n",
    "df_sort['resd'] = df_sort['L']-df_sort['E']\n",
    "\n",
    "# Sort dataframe\n",
    "df_sort = df_sort.sort_values(['resd'],ascending=False).reset_index()\n",
    "df_sort.index = df_sort.index/len(df_sort)\n",
    "\n",
    "# Make new dataframe with time mappings\n",
    "df_h = df_sort.merge(m.db['h2HourOfTheDay'].to_frame(index=False))\n",
    "\n",
    "# Aggregate for average hour of the day\n",
    "df_h = df_h.groupby('HourOfTheDay')[['resd','p']].mean()\n",
    "\n",
    "# Make plot\n",
    "fig, ax = plt.subplots(nrows=2,ncols=2,sharey='row',sharex='col')\n",
    "\n",
    "df_sort['resd'].plot(ax=ax[0,0],ylabel=r'Residual demand (GJ)')\n",
    "df_sort['p'].plot(ax=ax[1,0],ylabel=r'Marginal system costs ($€/$GJ)',xlabel='Capacity factor')\n",
    "df_h['resd'].plot(ax=ax[0,1])\n",
    "df_h['p'].plot(xlabel='Average hour of the day (GJ)',ax=ax[1,1])\n",
    "\n",
    "fig.tight_layout()"
   ]
  },
  {
   "cell_type": "code",
   "execution_count": 21,
   "id": "31938bdd",
   "metadata": {},
   "outputs": [
    {
     "data": {
      "text/plain": [
       "id\n",
       "id1      55.0\n",
       "idES    100.0\n",
       "Name: GeneratingCapacity, dtype: float64"
      ]
     },
     "execution_count": 21,
     "metadata": {},
     "output_type": "execute_result"
    }
   ],
   "source": [
    "m.db['GeneratingCapacity']"
   ]
  },
  {
   "cell_type": "markdown",
   "id": "d1974cea",
   "metadata": {},
   "source": [
    "_skal opdateres manuelt_"
   ]
  },
  {
   "cell_type": "code",
   "execution_count": 46,
   "id": "677b9db2",
   "metadata": {},
   "outputs": [
    {
     "name": "stdout",
     "output_type": "stream",
     "text": [
      "   Combination     Welfare\n",
      "0      (0, 45)  11290320.0\n",
      "1     (13, 45)  13794600.0\n",
      "2     (27, 45)  16298880.0\n",
      "3     (41, 45)  18803170.0\n",
      "4     (55, 45)  21307450.0\n",
      "5      (0, 58)  18346770.0\n",
      "6     (13, 58)  20851050.0\n",
      "7     (27, 58)  23355340.0\n",
      "8     (41, 58)  25859620.0\n",
      "9     (55, 58)  28363900.0\n",
      "10     (0, 72)  25403220.0\n",
      "11    (13, 72)  27907510.0\n",
      "12    (27, 72)  30411790.0\n",
      "13    (41, 72)  32916070.0\n",
      "14    (55, 72)  35420350.0\n",
      "15     (0, 86)  32459680.0\n",
      "16    (13, 86)  34963960.0\n",
      "17    (27, 86)  37468240.0\n",
      "18    (41, 86)  39972520.0\n",
      "19    (55, 86)  40770070.0\n",
      "20    (0, 100)  39516130.0\n",
      "21   (13, 100)  40810280.0\n",
      "22   (27, 100)  41532360.0\n",
      "23   (41, 100)  41957880.0\n",
      "24   (55, 100)  42195350.0\n"
     ]
    }
   ],
   "source": [
    "tabel_data = {\n",
    "    'Combination': [(0, 45), (13, 45), (27, 45), (41, 45), (55, 45), \n",
    "                    (0, 58), (13, 58), (27, 58), (41, 58), (55, 58), \n",
    "                    (0, 72), (13, 72), (27, 72), (41, 72), (55, 72), \n",
    "                    (0, 86), (13, 86), (27, 86), (41, 86), (55, 86), \n",
    "                    (0, 100), (13, 100), (27, 100), (41, 100), (55, 100)],\n",
    "    'Welfare': [\n",
    "    1.129032e+07,\n",
    "    1.379460e+07,\n",
    "    1.629888e+07,\n",
    "    1.880317e+07,\n",
    "    2.130745e+07,\n",
    "    1.834677e+07,\n",
    "    2.085105e+07,\n",
    "    2.335534e+07,\n",
    "    2.585962e+07,\n",
    "    2.836390e+07,\n",
    "    2.540322e+07,\n",
    "    2.790751e+07,\n",
    "    3.041179e+07,\n",
    "    3.291607e+07,\n",
    "    3.542035e+07,\n",
    "    3.245968e+07,\n",
    "    3.496396e+07,\n",
    "    3.746824e+07,\n",
    "    3.997252e+07,\n",
    "    4.077007e+07,\n",
    "    3.951613e+07,\n",
    "    4.081028e+07,\n",
    "    4.153236e+07,\n",
    "    4.195788e+07,\n",
    "    4.219535e+07\n",
    "]\n",
    "}\n",
    "\n",
    "\n",
    "# Create a DataFrame\n",
    "tabel_df = pd.DataFrame(tabel_data)\n",
    "\n",
    "# Print the DataFrame\n",
    "print(tabel_df)\n"
   ]
  },
  {
   "cell_type": "code",
   "execution_count": 23,
   "id": "bc6dcfbc",
   "metadata": {},
   "outputs": [
    {
     "data": {
      "image/png": "[encoded data removed]",
      "text/plain": [
       "<Figure size 800x550 with 2 Axes>"
      ]
     },
     "metadata": {},
     "output_type": "display_data"
    }
   ],
   "source": [
    "import matplotlib.pyplot as plt\n",
    "from matplotlib.colors import LinearSegmentedColormap, Normalize\n",
    "\n",
    "# Assuming df is your DataFrame\n",
    "tabel_df = pd.DataFrame(tabel_data)\n",
    "\n",
    "# Extract x and y values\n",
    "combinations = tabel_df['Combination']\n",
    "welfare = tabel_df['Welfare'] / 1e6  # Convert welfare values to millions\n",
    "\n",
    "# Unpack the tuples in the 'Combination' column\n",
    "y, x = zip(*combinations)\n",
    "\n",
    "# Define a custom colormap from orange to green\n",
    "colors = [(1, 0.5, 0), (1, 1, 0), (0, 1, 0)]  # RGB values for orange, yellow, and green\n",
    "cmap = LinearSegmentedColormap.from_list('custom_cmap', colors, N=256)\n",
    "\n",
    "# Normalize welfare values to the range [0, 1] for the colormap\n",
    "norm = Normalize(vmin=welfare.min(), vmax=welfare.max())\n",
    "\n",
    "# Create a scatter plot with swapped x and y, using the custom colormap\n",
    "plt.scatter(x, y, c=welfare, cmap=cmap, norm=norm, marker='o', edgecolors='black')\n",
    "\n",
    "# Add labels and a colorbar\n",
    "plt.xlabel('Hydro Capacity (MW)')\n",
    "plt.ylabel('Wind Capacity (MW)')\n",
    "plt.title('Scatter Plot of Combinations and Welfare (in millions)')\n",
    "cbar = plt.colorbar()\n",
    "cbar.set_label('Welfare (in mio.)')\n",
    "\n",
    "# Add welfare value annotations for each combination\n",
    "for i, (xi, yi, wi) in enumerate(zip(x, y, welfare)):\n",
    "    plt.annotate(f'{wi:.0f} mio.', (xi, yi), textcoords=\"offset points\", xytext=(0, 5), ha='center')\n",
    "\n",
    "# Show the plot\n",
    "plt.show()\n"
   ]
  },
  {
   "cell_type": "code",
   "execution_count": 24,
   "id": "cc74064c",
   "metadata": {},
   "outputs": [
    {
     "data": {
      "image/png": "[encoded data removed]",
      "text/plain": [
       "<Figure size 800x550 with 2 Axes>"
      ]
     },
     "metadata": {},
     "output_type": "display_data"
    }
   ],
   "source": [
    "import pandas as pd\n",
    "import matplotlib.pyplot as plt\n",
    "from matplotlib.colors import LinearSegmentedColormap, Normalize\n",
    "\n",
    "# Assuming df is your DataFrame\n",
    "df_tabel = pd.DataFrame(tabel_data)\n",
    "\n",
    "# Define the tolerance for the sum of wind and hydro capacities\n",
    "tolerance = 5\n",
    "\n",
    "# Filter combinations where the sum of wind and hydro capacities is close to 100\n",
    "filtered_df = df_tabel[df_tabel['Combination'].apply(lambda x: abs(sum(x) - 100) <= tolerance)]\n",
    "\n",
    "# Extract x and y values from the filtered DataFrame\n",
    "combinations = filtered_df['Combination']\n",
    "welfare = filtered_df['Welfare'] / 1e6  # Convert welfare values to millions\n",
    "\n",
    "# Unpack the tuples in the 'Combination' column\n",
    "y, x = zip(*combinations)\n",
    "\n",
    "# Define a custom colormap from orange to green\n",
    "colors = [(1, 0.5, 0), (1, 1, 0), (0, 1, 0)]  # RGB values for orange, yellow, and green\n",
    "cmap = LinearSegmentedColormap.from_list('custom_cmap', colors, N=256)\n",
    "\n",
    "# Normalize welfare values to the range [0, 1] for the colormap\n",
    "norm = Normalize(vmin=welfare.min(), vmax=welfare.max())\n",
    "\n",
    "# Create a scatter plot with swapped x and y, using the custom colormap\n",
    "plt.scatter(x, y, c=welfare, cmap=cmap, norm=norm, marker='o', edgecolors='black')\n",
    "\n",
    "# Add labels and a colorbar\n",
    "plt.xlabel('Hydro Capacity (MW)')\n",
    "plt.ylabel('Wind Capacity (MW)')\n",
    "plt.title('Welfare given different combinations of hydro and wind (100 MW)')\n",
    "cbar = plt.colorbar()\n",
    "cbar.set_label('Welfare (in mio.)')\n",
    "\n",
    "# Add welfare value annotations for each combination\n",
    "for i, (xi, yi, wi) in enumerate(zip(x, y, welfare)):\n",
    "    plt.annotate(f'{wi:.0f} mio.', (xi, yi), textcoords=\"offset points\", xytext=(0, 5), ha='center')\n",
    "\n",
    "# Show the plot\n",
    "plt.show()\n"
   ]
  },
  {
   "cell_type": "code",
   "execution_count": 25,
   "id": "c55b52e0",
   "metadata": {},
   "outputs": [
    {
     "data": {
      "text/plain": [
       "c\n",
       "c1    1071214.6\n",
       "Name: Load, dtype: object"
      ]
     },
     "execution_count": 25,
     "metadata": {},
     "output_type": "execute_result"
    }
   ],
   "source": [
    "db['Load']"
   ]
  },
  {
   "cell_type": "code",
   "execution_count": 47,
   "id": "5d62df35",
   "metadata": {},
   "outputs": [
    {
     "data": {
      "text/plain": [
       "Text(0.5, 1.0, 'Welfare in different combinations of hydro and wind')"
      ]
     },
     "execution_count": 47,
     "metadata": {},
     "output_type": "execute_result"
    },
    {
     "data": {
      "image/png": "[encoded data removed]",
      "text/plain": [
       "<Figure size 800x550 with 1 Axes>"
      ]
     },
     "metadata": {},
     "output_type": "display_data"
    }
   ],
   "source": [
    "solution['Welfare'].plot()\n",
    "plt.xlabel('combination')\n",
    "plt.ylabel('Welfare')\n",
    "plt.title('Welfare in different combinations of hydro and wind')"
   ]
  },
  {
   "cell_type": "code",
   "execution_count": 27,
   "id": "afb68119",
   "metadata": {},
   "outputs": [
    {
     "data": {
      "text/plain": [
       "id   loop\n",
       "id1  0        0.0\n",
       "     1       50.0\n",
       "     2       50.0\n",
       "     3       50.0\n",
       "     4       50.0\n",
       "     5        0.0\n",
       "     6       50.0\n",
       "     7       50.0\n",
       "     8       50.0\n",
       "     9       50.0\n",
       "     10      50.0\n",
       "     11      50.0\n",
       "     12      50.0\n",
       "     13      50.0\n",
       "     14      50.0\n",
       "     15      50.0\n",
       "     16      50.0\n",
       "     17      50.0\n",
       "     18      50.0\n",
       "     19      50.0\n",
       "     20      50.0\n",
       "     21      50.0\n",
       "     22      50.0\n",
       "     23      50.0\n",
       "     24      50.0\n",
       "dtype: float64"
      ]
     },
     "execution_count": 27,
     "metadata": {},
     "output_type": "execute_result"
    }
   ],
   "source": [
    "solution['capturePrice']"
   ]
  },
  {
   "cell_type": "code",
   "execution_count": 28,
   "id": "66fe2fed",
   "metadata": {},
   "outputs": [
    {
     "data": {
      "text/plain": [
       "loop\n",
       "4     2.163859e+07\n",
       "9     3.575149e+07\n",
       "14    3.575149e+07\n",
       "19    3.575149e+07\n",
       "24    3.575149e+07\n",
       "dtype: float64"
      ]
     },
     "execution_count": 28,
     "metadata": {},
     "output_type": "execute_result"
    }
   ],
   "source": [
    "solution['Welfare'][grid_ECap_Wind[grid_ECap_Wind == 55].index.get_level_values(0)]"
   ]
  },
  {
   "cell_type": "code",
   "execution_count": 29,
   "id": "2e1ba94e",
   "metadata": {},
   "outputs": [
    {
     "data": {
      "text/plain": [
       "FrozenList(['id'])"
      ]
     },
     "execution_count": 29,
     "metadata": {},
     "output_type": "execute_result"
    }
   ],
   "source": [
    "db['sCap'].index.names"
   ]
  },
  {
   "cell_type": "code",
   "execution_count": 30,
   "id": "26d642fd",
   "metadata": {},
   "outputs": [
    {
     "data": {
      "text/plain": [
       "50"
      ]
     },
     "execution_count": 30,
     "metadata": {},
     "output_type": "execute_result"
    }
   ],
   "source": [
    "db['MWP']"
   ]
  },
  {
   "cell_type": "code",
   "execution_count": 31,
   "id": "45f56522",
   "metadata": {},
   "outputs": [
    {
     "data": {
      "text/plain": [
       "h     id   loop\n",
       "1     id1  0        0.000000\n",
       "           1        4.481481\n",
       "           2        8.962963\n",
       "           3       13.444444\n",
       "           4       17.925926\n",
       "                     ...    \n",
       "8760  id1  20       7.333333\n",
       "           21       7.333333\n",
       "           22       7.333333\n",
       "           23       7.333333\n",
       "           24       7.333333\n",
       "Length: 219000, dtype: float64"
      ]
     },
     "execution_count": 31,
     "metadata": {},
     "output_type": "execute_result"
    }
   ],
   "source": [
    "solution['Generation']"
   ]
  },
  {
   "cell_type": "markdown",
   "id": "a86080c3",
   "metadata": {},
   "source": [
    "### __Results__"
   ]
  },
  {
   "cell_type": "code",
   "execution_count": 32,
   "id": "b704736e",
   "metadata": {},
   "outputs": [
    {
     "data": {
      "text/plain": [
       "id\n",
       "idES    225806.451613\n",
       "dtype: float64"
      ]
     },
     "execution_count": 32,
     "metadata": {},
     "output_type": "execute_result"
    }
   ],
   "source": [
    "solution['discharge'][:, :, 0].groupby('id').sum()"
   ]
  },
  {
   "cell_type": "code",
   "execution_count": 33,
   "id": "bb71d125",
   "metadata": {},
   "outputs": [
    {
     "data": {
      "text/plain": [
       "id\n",
       "idES    508064.516129\n",
       "dtype: float64"
      ]
     },
     "execution_count": 33,
     "metadata": {},
     "output_type": "execute_result"
    }
   ],
   "source": [
    "solution['discharge'][:, :, 12].groupby('id').sum()"
   ]
  },
  {
   "cell_type": "code",
   "execution_count": 34,
   "id": "392c58dc",
   "metadata": {},
   "outputs": [
    {
     "data": {
      "text/plain": [
       "loop\n",
       "0      0.00\n",
       "1     13.75\n",
       "2     27.50\n",
       "3     41.25\n",
       "4     55.00\n",
       "5      0.00\n",
       "6     13.75\n",
       "7     27.50\n",
       "8     41.25\n",
       "9     55.00\n",
       "10     0.00\n",
       "11    13.75\n",
       "12    27.50\n",
       "13    41.25\n",
       "14    55.00\n",
       "15     0.00\n",
       "16    13.75\n",
       "17    27.50\n",
       "18    41.25\n",
       "19    55.00\n",
       "20     0.00\n",
       "21    13.75\n",
       "22    27.50\n",
       "23    41.25\n",
       "24    55.00\n",
       "dtype: float64"
      ]
     },
     "execution_count": 34,
     "metadata": {},
     "output_type": "execute_result"
    }
   ],
   "source": [
    "solution['GeneratingCapacity']['id1']"
   ]
  },
  {
   "cell_type": "code",
   "execution_count": 35,
   "id": "f0c26510",
   "metadata": {},
   "outputs": [
    {
     "data": {
      "text/plain": [
       "h  id    loop\n",
       "1  idES  0       45.00\n",
       "         1       45.00\n",
       "         2       45.00\n",
       "         3       45.00\n",
       "         4       45.00\n",
       "         5       58.75\n",
       "         6       58.75\n",
       "         7       58.75\n",
       "         8       58.75\n",
       "         9       58.75\n",
       "         10      58.75\n",
       "         11      58.75\n",
       "         12      58.75\n",
       "         13      58.75\n",
       "         14      58.75\n",
       "         15      58.75\n",
       "         16      58.75\n",
       "         17      58.75\n",
       "         18      58.75\n",
       "         19      58.75\n",
       "         20      58.75\n",
       "         21      58.75\n",
       "         22      58.75\n",
       "         23      58.75\n",
       "         24      58.75\n",
       "dtype: float64"
      ]
     },
     "execution_count": 35,
     "metadata": {},
     "output_type": "execute_result"
    }
   ],
   "source": [
    "solution['discharge'].head(25)"
   ]
  },
  {
   "cell_type": "markdown",
   "id": "cd178a2a",
   "metadata": {},
   "source": [
    "# Random things"
   ]
  },
  {
   "cell_type": "markdown",
   "id": "9c89371c",
   "metadata": {},
   "source": [
    "Third, we define a grid with two dimentions, so that the grid contains both electricity generation from hydro and wind"
   ]
  },
  {
   "cell_type": "code",
   "execution_count": 36,
   "id": "d105b664",
   "metadata": {},
   "outputs": [],
   "source": [
    "def grid(vec_hydro, vec_wind, index, gridtype='linear', phi=1): \n",
    "\n",
    "    if gridtype == 'linear': # If v0, vT are one dimentional numpy arrays, returns two dimentional array. \n",
    "        return np.linspace(vec_hydro, vec_wind, len(index)) \n",
    "      \n",
    "    elif gridtype=='polynomial': # If scalars, returns one dimentional arrays.\n",
    "        return np.array([vec_hydro+(vec_wind-vec_hydro)*((i-1)/(len(index)-1))**phi for i in range(1,len(index)+1)])"
   ]
  },
  {
   "cell_type": "code",
   "execution_count": 37,
   "id": "27e5d6b7",
   "metadata": {},
   "outputs": [],
   "source": [
    "def addGrid(vec_hydro, vec_wind, index, name, gridtype = 'linear', phi = 1, sort_levels=None, sort_index = False): # NB: Make sure that v0 and vT are sorted similarly (if they are defined over indices)\n",
    "    \n",
    "    if sort_index:\n",
    "        vec_hydro = vec_hydro.sort_index()\n",
    "        vec_wind = vec_wind.sort_index()\n",
    "\n",
    "    if isinstance(vec_hydro, pd.Series):\n",
    "        return pd.DataFrame(grid(vec_hydro, vec_wind, index, gridtype=gridtype, phi=phi).T, index = vec_hydro.index, columns = index).stack().rename(name).reorder_levels(index.names+vec_wind.index.names if sort_levels is None else sort_levels)\n",
    "    \n",
    "    else:\n",
    "        return pd.Series(grid(vec_hydro, vec_wind, index, gridtype=gridtype, phi=phi), index=index, name=name)"
   ]
  },
  {
   "cell_type": "markdown",
   "id": "aa8d5991",
   "metadata": {},
   "source": [
    "Then, we converge the vectors into flat indexs "
   ]
  },
  {
   "cell_type": "code",
   "execution_count": 38,
   "id": "f45537c7",
   "metadata": {},
   "outputs": [],
   "source": [
    "import lpCompiler"
   ]
  },
  {
   "cell_type": "code",
   "execution_count": 39,
   "id": "d78ceacb",
   "metadata": {},
   "outputs": [
    {
     "ename": "NameError",
     "evalue": "name 'grid_ECap' is not defined",
     "output_type": "error",
     "traceback": [
      "\u001b[1;31m---------------------------------------------------------------------------\u001b[0m",
      "\u001b[1;31mNameError\u001b[0m                                 Traceback (most recent call last)",
      "Cell \u001b[1;32mIn[39], line 1\u001b[0m\n\u001b[1;32m----> 1\u001b[0m df_E \u001b[38;5;241m=\u001b[39m lpCompiler\u001b[38;5;241m.\u001b[39msortAll(addGrid(\u001b[43mgrid_ECap\u001b[49m, grid_ECap, loop_wind, \u001b[38;5;124m'\u001b[39m\u001b[38;5;124mGeneratingCap_E\u001b[39m\u001b[38;5;124m'\u001b[39m)\u001b[38;5;241m.\u001b[39munstack(\u001b[38;5;124m'\u001b[39m\u001b[38;5;124mid\u001b[39m\u001b[38;5;124m'\u001b[39m))\n\u001b[0;32m      2\u001b[0m df_S \u001b[38;5;241m=\u001b[39m lpCompiler\u001b[38;5;241m.\u001b[39msortAll(addGrid(grid_SCap, grid_SCap, loop_hydro, \u001b[38;5;124m'\u001b[39m\u001b[38;5;124msCap\u001b[39m\u001b[38;5;124m'\u001b[39m)\u001b[38;5;241m.\u001b[39munstack(\u001b[38;5;124m'\u001b[39m\u001b[38;5;124mid\u001b[39m\u001b[38;5;124m'\u001b[39m))\n\u001b[0;32m      4\u001b[0m \u001b[38;5;66;03m# redefining the name of the loops\u001b[39;00m\n",
      "\u001b[1;31mNameError\u001b[0m: name 'grid_ECap' is not defined"
     ]
    }
   ],
   "source": [
    "df_E = lpCompiler.sortAll(addGrid(grid_ECap, grid_ECap, loop_wind, 'GeneratingCap_E').unstack('id'))\n",
    "df_S = lpCompiler.sortAll(addGrid(grid_SCap, grid_SCap, loop_hydro, 'sCap').unstack('id'))\n",
    "\n",
    "# redefining the name of the loops\n",
    "df_E.index = df_E.index.to_flat_index().rename('loop')\n",
    "df_S.index = df_S.index.to_flat_index().rename('loop')\n",
    "\n",
    "# \n",
    "grid_ECap_1d = df_E.stack().rename('GenerationCapacity')\n",
    "grid_SCap_1d = df_S.stack().rename('GenerationCapacity')\n",
    "\n",
    "# Defining the loop as an index\n",
    "loop = df_E.index"
   ]
  },
  {
   "cell_type": "code",
   "execution_count": null,
   "id": "678c20bc",
   "metadata": {},
   "outputs": [
    {
     "data": {
      "text/html": [
       "<div>\n",
       "<style scoped>\n",
       "    .dataframe tbody tr th:only-of-type {\n",
       "        vertical-align: middle;\n",
       "    }\n",
       "\n",
       "    .dataframe tbody tr th {\n",
       "        vertical-align: top;\n",
       "    }\n",
       "\n",
       "    .dataframe thead th {\n",
       "        text-align: right;\n",
       "    }\n",
       "</style>\n",
       "<table border=\"1\" class=\"dataframe\">\n",
       "  <thead>\n",
       "    <tr style=\"text-align: right;\">\n",
       "      <th>id</th>\n",
       "      <th>idES</th>\n",
       "      <th>id6</th>\n",
       "    </tr>\n",
       "    <tr>\n",
       "      <th>loop</th>\n",
       "      <th></th>\n",
       "      <th></th>\n",
       "    </tr>\n",
       "  </thead>\n",
       "  <tbody>\n",
       "    <tr>\n",
       "      <th>(0, 0)</th>\n",
       "      <td>45.0</td>\n",
       "      <td>0.0</td>\n",
       "    </tr>\n",
       "    <tr>\n",
       "      <th>(0, 1)</th>\n",
       "      <td>45.0</td>\n",
       "      <td>0.0</td>\n",
       "    </tr>\n",
       "    <tr>\n",
       "      <th>(0, 2)</th>\n",
       "      <td>45.0</td>\n",
       "      <td>0.0</td>\n",
       "    </tr>\n",
       "    <tr>\n",
       "      <th>(0, 3)</th>\n",
       "      <td>45.0</td>\n",
       "      <td>0.0</td>\n",
       "    </tr>\n",
       "    <tr>\n",
       "      <th>(0, 4)</th>\n",
       "      <td>45.0</td>\n",
       "      <td>0.0</td>\n",
       "    </tr>\n",
       "    <tr>\n",
       "      <th>(1, 0)</th>\n",
       "      <td>58.0</td>\n",
       "      <td>13.0</td>\n",
       "    </tr>\n",
       "    <tr>\n",
       "      <th>(1, 1)</th>\n",
       "      <td>58.0</td>\n",
       "      <td>13.0</td>\n",
       "    </tr>\n",
       "    <tr>\n",
       "      <th>(1, 2)</th>\n",
       "      <td>58.0</td>\n",
       "      <td>13.0</td>\n",
       "    </tr>\n",
       "    <tr>\n",
       "      <th>(1, 3)</th>\n",
       "      <td>58.0</td>\n",
       "      <td>13.0</td>\n",
       "    </tr>\n",
       "    <tr>\n",
       "      <th>(1, 4)</th>\n",
       "      <td>58.0</td>\n",
       "      <td>13.0</td>\n",
       "    </tr>\n",
       "    <tr>\n",
       "      <th>(2, 0)</th>\n",
       "      <td>72.0</td>\n",
       "      <td>27.0</td>\n",
       "    </tr>\n",
       "    <tr>\n",
       "      <th>(2, 1)</th>\n",
       "      <td>72.0</td>\n",
       "      <td>27.0</td>\n",
       "    </tr>\n",
       "    <tr>\n",
       "      <th>(2, 2)</th>\n",
       "      <td>72.0</td>\n",
       "      <td>27.0</td>\n",
       "    </tr>\n",
       "    <tr>\n",
       "      <th>(2, 3)</th>\n",
       "      <td>72.0</td>\n",
       "      <td>27.0</td>\n",
       "    </tr>\n",
       "    <tr>\n",
       "      <th>(2, 4)</th>\n",
       "      <td>72.0</td>\n",
       "      <td>27.0</td>\n",
       "    </tr>\n",
       "    <tr>\n",
       "      <th>(3, 0)</th>\n",
       "      <td>86.0</td>\n",
       "      <td>41.0</td>\n",
       "    </tr>\n",
       "    <tr>\n",
       "      <th>(3, 1)</th>\n",
       "      <td>86.0</td>\n",
       "      <td>41.0</td>\n",
       "    </tr>\n",
       "    <tr>\n",
       "      <th>(3, 2)</th>\n",
       "      <td>86.0</td>\n",
       "      <td>41.0</td>\n",
       "    </tr>\n",
       "    <tr>\n",
       "      <th>(3, 3)</th>\n",
       "      <td>86.0</td>\n",
       "      <td>41.0</td>\n",
       "    </tr>\n",
       "    <tr>\n",
       "      <th>(3, 4)</th>\n",
       "      <td>86.0</td>\n",
       "      <td>41.0</td>\n",
       "    </tr>\n",
       "    <tr>\n",
       "      <th>(4, 0)</th>\n",
       "      <td>100.0</td>\n",
       "      <td>55.0</td>\n",
       "    </tr>\n",
       "    <tr>\n",
       "      <th>(4, 1)</th>\n",
       "      <td>100.0</td>\n",
       "      <td>55.0</td>\n",
       "    </tr>\n",
       "    <tr>\n",
       "      <th>(4, 2)</th>\n",
       "      <td>100.0</td>\n",
       "      <td>55.0</td>\n",
       "    </tr>\n",
       "    <tr>\n",
       "      <th>(4, 3)</th>\n",
       "      <td>100.0</td>\n",
       "      <td>55.0</td>\n",
       "    </tr>\n",
       "    <tr>\n",
       "      <th>(4, 4)</th>\n",
       "      <td>100.0</td>\n",
       "      <td>55.0</td>\n",
       "    </tr>\n",
       "  </tbody>\n",
       "</table>\n",
       "</div>"
      ],
      "text/plain": [
       "id       idES   id6\n",
       "loop               \n",
       "(0, 0)   45.0   0.0\n",
       "(0, 1)   45.0   0.0\n",
       "(0, 2)   45.0   0.0\n",
       "(0, 3)   45.0   0.0\n",
       "(0, 4)   45.0   0.0\n",
       "(1, 0)   58.0  13.0\n",
       "(1, 1)   58.0  13.0\n",
       "(1, 2)   58.0  13.0\n",
       "(1, 3)   58.0  13.0\n",
       "(1, 4)   58.0  13.0\n",
       "(2, 0)   72.0  27.0\n",
       "(2, 1)   72.0  27.0\n",
       "(2, 2)   72.0  27.0\n",
       "(2, 3)   72.0  27.0\n",
       "(2, 4)   72.0  27.0\n",
       "(3, 0)   86.0  41.0\n",
       "(3, 1)   86.0  41.0\n",
       "(3, 2)   86.0  41.0\n",
       "(3, 3)   86.0  41.0\n",
       "(3, 4)   86.0  41.0\n",
       "(4, 0)  100.0  55.0\n",
       "(4, 1)  100.0  55.0\n",
       "(4, 2)  100.0  55.0\n",
       "(4, 3)  100.0  55.0\n",
       "(4, 4)  100.0  55.0"
      ]
     },
     "execution_count": 273,
     "metadata": {},
     "output_type": "execute_result"
    }
   ],
   "source": [
    "df_E"
   ]
  },
  {
   "cell_type": "markdown",
   "id": "e9a341ee-1627-447c-9c68-b5f2f4c87220",
   "metadata": {
    "tags": []
   },
   "source": [
    "Then, we extract the following variables:\n",
    "\n",
    "Vi har desuden fjernet alle emmissionsvariable, da vi kun har VE-anlæg"
   ]
  },
  {
   "cell_type": "markdown",
   "id": "92db36be",
   "metadata": {},
   "source": [
    "Her tilføjes en ekstra variable, da storage muligheden også udvider sig grundet udvidelse af vandkraftværk. Derfor tager det også længere tid at tømme reservioret. Man kan se, at de følges ad --> så reservioret ikke tømmes hurtigere pga. udvidelse heraf men tværdigmod"
   ]
  },
  {
   "cell_type": "code",
   "execution_count": null,
   "id": "a3fe9944",
   "metadata": {},
   "outputs": [],
   "source": [
    "grid_SCap_1d2 = (grid_SCap_1d*5000).rename('SCap')"
   ]
  },
  {
   "cell_type": "code",
   "execution_count": null,
   "id": "37f16950",
   "metadata": {},
   "outputs": [
    {
     "data": {
      "text/plain": [
       "h\n",
       "1       13.820385\n",
       "2       13.392084\n",
       "3       12.850539\n",
       "4       12.531986\n",
       "5       12.292986\n",
       "          ...    \n",
       "8756    15.981571\n",
       "8757    14.761723\n",
       "8758    14.641821\n",
       "8759    14.080541\n",
       "8760    13.468162\n",
       "Length: 8760, dtype: float64"
      ]
     },
     "execution_count": 34,
     "metadata": {},
     "output_type": "execute_result"
    }
   ],
   "source": [
    "m.db['Generation'][:, 'id6']"
   ]
  },
  {
   "cell_type": "code",
   "execution_count": null,
   "id": "bf7c87ce",
   "metadata": {},
   "outputs": [
    {
     "data": {
      "text/plain": [
       "17792.691162259584"
      ]
     },
     "execution_count": 39,
     "metadata": {},
     "output_type": "execute_result"
    }
   ],
   "source": [
    "m.hourlyGeneratingCap['id6'][m.hourlyGeneratingCap['id6'] - m.db['HourlyDemand']['c1', :] < 0].sum()"
   ]
  },
  {
   "cell_type": "code",
   "execution_count": null,
   "id": "2c2b6157",
   "metadata": {},
   "outputs": [
    {
     "data": {
      "text/plain": [
       "876000"
      ]
     },
     "execution_count": 40,
     "metadata": {},
     "output_type": "execute_result"
    }
   ],
   "source": [
    "m.hourlyGeneratingCap['idES'][m.hourlyGeneratingCap['idES']].sum()"
   ]
  },
  {
   "cell_type": "code",
   "execution_count": null,
   "id": "cf6587b0",
   "metadata": {},
   "outputs": [
    {
     "data": {
      "text/plain": [
       "MultiIndex([('idES',    1),\n",
       "            ('idES',    2),\n",
       "            ('idES',    3),\n",
       "            ('idES',    4),\n",
       "            ('idES',    5),\n",
       "            ('idES',    6),\n",
       "            ('idES',    7),\n",
       "            ('idES',    8),\n",
       "            ('idES',    9),\n",
       "            ('idES',   10),\n",
       "            ...\n",
       "            ('idES', 8751),\n",
       "            ('idES', 8752),\n",
       "            ('idES', 8753),\n",
       "            ('idES', 8754),\n",
       "            ('idES', 8755),\n",
       "            ('idES', 8756),\n",
       "            ('idES', 8757),\n",
       "            ('idES', 8758),\n",
       "            ('idES', 8759),\n",
       "            ('idES', 8760)],\n",
       "           names=['id_constr', 'h_constr'], length=8760)"
      ]
     },
     "execution_count": 367,
     "metadata": {},
     "output_type": "execute_result"
    }
   ],
   "source": [
    "m.globalDomains['LawOfMotion']"
   ]
  },
  {
   "cell_type": "code",
   "execution_count": null,
   "id": "d1c8dbc8",
   "metadata": {},
   "outputs": [
    {
     "data": {
      "text/plain": [
       "<Axes: xlabel='h'>"
      ]
     },
     "execution_count": 359,
     "metadata": {},
     "output_type": "execute_result"
    },
    {
     "data": {
      "image/png": "[encoded data removed]",
      "text/plain": [
       "<Figure size 800x550 with 1 Axes>"
      ]
     },
     "metadata": {},
     "output_type": "display_data"
    }
   ],
   "source": [
    "m.db['HourlyDemand']['c1', :].plot()"
   ]
  },
  {
   "cell_type": "code",
   "execution_count": null,
   "id": "81ed9e46",
   "metadata": {},
   "outputs": [
    {
     "data": {
      "text/plain": [
       "h     id  \n",
       "1     idES    45.000000\n",
       "2     idES    45.000000\n",
       "4     idES    26.084946\n",
       "5     idES    45.000000\n",
       "9     idES    45.000000\n",
       "                ...    \n",
       "8754  idES    28.022745\n",
       "8755  idES    45.000000\n",
       "8757  idES    45.000000\n",
       "8759  idES    45.000000\n",
       "8760  idES    45.000000\n",
       "Length: 5776, dtype: float64"
      ]
     },
     "execution_count": 69,
     "metadata": {},
     "output_type": "execute_result"
    }
   ],
   "source": [
    "solution['discharge'][:,:,0][solution['discharge'][:, :, 0] >0]"
   ]
  },
  {
   "cell_type": "code",
   "execution_count": null,
   "id": "b84e42ed",
   "metadata": {},
   "outputs": [
    {
     "data": {
      "text/plain": [
       "<Axes: xlabel='h'>"
      ]
     },
     "execution_count": 72,
     "metadata": {},
     "output_type": "execute_result"
    },
    {
     "data": {
      "image/png": "[encoded data removed]",
      "text/plain": [
       "<Figure size 800x550 with 1 Axes>"
      ]
     },
     "metadata": {},
     "output_type": "display_data"
    }
   ],
   "source": [
    "(m.hourlyLoad - m.hourlyGeneratingCap.xs('idES')).plot()"
   ]
  },
  {
   "cell_type": "markdown",
   "metadata": {},
   "source": [
    "# Appendix"
   ]
  },
  {
   "cell_type": "markdown",
   "metadata": {},
   "source": [
    "The table below translates the names used in the data to the symbols used in the model. \n",
    "\n",
    "| Name in excel file | Model symbol |\n",
    "|:--------|:--------:|\n",
    "| id | $i$ | \n",
    "| BFt | $j$ |\n",
    "| h | $h$ |\n",
    "|  FuelMix   |  $\\mu_{i,j}$   |\n",
    "|  GeneratingCapacity   | $q_i$   |\n",
    "|  OtherMC   | $c_i^{oth}$   |\n",
    "| FuelPrice | $p_j^f$ |\n",
    "| EmissionIntensity | $\\phi_j$ |\n",
    "| MWP | $\\mu$ |\n",
    "| LoadVariation $\\times$ Load | $D_h$ |\n",
    "| CapVariation | $\\gamma_{i,h} $ |\n",
    "| sCap | $\\overline{S}_i$ |\n",
    "| effS | $\\sqrt{\\eta_i}$ |\n",
    "\n",
    "Note that $c$ is also an index for the consumer type in the data file. In the model in [**Part 1**](#Part-1:-Analytical-Exercises), however, there is only a single representative consumer. But since $c=c1$ always, this is equivalent.\n",
    "\n",
    "The following section imports the data:"
   ]
  }
 ],
 "metadata": {
  "kernelspec": {
   "display_name": "Python 3 (ipykernel)",
   "language": "python",
   "name": "python3"
  },
  "language_info": {
   "codemirror_mode": {
    "name": "ipython",
    "version": 3
   },
   "file_extension": ".py",
   "mimetype": "text/x-python",
   "name": "python",
   "nbconvert_exporter": "python",
   "pygments_lexer": "ipython3",
   "version": "3.9.16"
  }
 },
 "nbformat": 4,
 "nbformat_minor": 5
}
