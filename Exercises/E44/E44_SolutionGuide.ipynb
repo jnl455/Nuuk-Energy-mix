{
 "cells": [
  {
   "cell_type": "markdown",
   "id": "e93ed03f-9626-40d9-b0c2-ab1ef61a3090",
   "metadata": {},
   "source": [
    "# Exam paper: Optimal Energy mix in Greenland\n",
    "### _Group 1: Marie Louise, Sofie & Caroline_"
   ]
  },
  {
   "cell_type": "markdown",
   "id": "1a04d1bc-0f04-44cb-a717-3e300628bdf7",
   "metadata": {},
   "source": [
    "We import the basic packages:"
   ]
  },
  {
   "cell_type": "code",
   "execution_count": 45,
   "id": "a0a1fcf4-c9cf-492d-8efa-8b1f15b2d752",
   "metadata": {
    "tags": []
   },
   "outputs": [],
   "source": [
    "#%run ../stdPackages.ipynb\n",
    "from pyDbs import *\n",
    "from IPython.display import Image\n",
    "figs_path = os.path.join(d['curr'],'Figs')\n"
   ]
  },
  {
   "cell_type": "markdown",
   "id": "4da0dd40-430f-46ee-88af-ddc39e4fc94b",
   "metadata": {},
   "source": [
    "We create a path to data"
   ]
  },
  {
   "cell_type": "code",
   "execution_count": 46,
   "id": "1657d445-6451-4131-a49d-672e07e147be",
   "metadata": {
    "tags": []
   },
   "outputs": [
    {
     "name": "stdout",
     "output_type": "stream",
     "text": [
      "c:\\Users\\CAAL\\Dropbox\\Polit\\Nuuk-Energy-mix\\Exercises\\E44\\Data\\E44_Data-ny.xlsx\n"
     ]
    }
   ],
   "source": [
    "path_to_data = os.path.join(d['curr'], 'Exercises', 'E44','Data','E44_Data-ny.xlsx')\n",
    "print(path_to_data)"
   ]
  },
  {
   "cell_type": "code",
   "execution_count": 47,
   "id": "d4056e6c-95d9-4c64-afdb-15a0f4c19504",
   "metadata": {
    "tags": []
   },
   "outputs": [],
   "source": [
    "kwargs = {'variables': ['Fundamentals', 'Load', 'Generators_Other'],\n",
    "        'maps': ['Generators_Categories','hMaps'],\n",
    "        'variable2D': ['HourlyVariation','Generators_FuelMix'],\n",
    "        'scalars': ['Scalars']}\n",
    "\n",
    "db = read.dbFromWB(path_to_data, kwargs)\n",
    "readSets(db)"
   ]
  },
  {
   "cell_type": "markdown",
   "id": "9d6ea91c-a0e4-4371-b115-c828bf205f49",
   "metadata": {
    "tags": []
   },
   "source": [
    "Finally, make sure your code is correct by solving for the baseline scenario, where this is no storage:"
   ]
  },
  {
   "cell_type": "code",
   "execution_count": 48,
   "id": "506ccb7c-c363-435a-8bdd-f5996630d4d1",
   "metadata": {
    "tags": []
   },
   "outputs": [
    {
     "name": "stdout",
     "output_type": "stream",
     "text": [
      "Solution status 0: Optimization terminated successfully. (HiGHS Status 7: Optimal)\n"
     ]
    }
   ],
   "source": [
    "from Exam import *\n",
    "m = mSimple(db)\n",
    "m()"
   ]
  },
  {
   "cell_type": "markdown",
   "id": "1a1574f1-1868-4bd0-9172-e2d9aaec8e01",
   "metadata": {
    "tags": []
   },
   "source": [
    "Save solution for later:"
   ]
  },
  {
   "cell_type": "code",
   "execution_count": 49,
   "id": "c152c492-51ad-45c3-aa9c-42e6316e3e85",
   "metadata": {
    "tags": []
   },
   "outputs": [],
   "source": [
    "base_db = m.db.copy()"
   ]
  },
  {
   "cell_type": "markdown",
   "id": "ccebe24b-e47d-4546-bc02-69d9addd1616",
   "metadata": {
    "tags": []
   },
   "source": [
    "In the following, we aggregate the fuel types to the following types:"
   ]
  },
  {
   "cell_type": "code",
   "execution_count": 50,
   "id": "98eb9678-83df-4a7c-8c27-d742839ab841",
   "metadata": {
    "tags": []
   },
   "outputs": [],
   "source": [
    "agg_BFt = {\n",
    "    'Fueloil':'Oil','Gasoil':'Oil', \n",
    "    'Straw':'Biomass','WoodPellets':'Biomass','WoodChips':'Biomass','WoodWaste':'Biomass',\n",
    "    'Biogas':'Other Bio','BioOil':'Other Bio',\n",
    "    'Coal':'Coal',\n",
    "    'NatGas':'Natural gas',\n",
    "    'Waste':'Waste'\n",
    "}"
   ]
  },
  {
   "cell_type": "markdown",
   "id": "5a0fb943-8e40-47fb-aaf7-446effe3fa15",
   "metadata": {
    "tags": []
   },
   "source": [
    "# The optimal combination of wind and hydro"
   ]
  },
  {
   "cell_type": "markdown",
   "id": "da4abf45",
   "metadata": {},
   "source": [
    "First, we define the vectors. \n",
    "\n",
    "Since Buksefjordsværket in Nuuk already has a capacity of 45 mW, and the planned expantion of the hydro power plant is 55 mW (in all 100 mW), the vector of hydro goes from 45 to 100. \n",
    "\n",
    "Thus, the vector of wind goes from 0 to 55 mW. \n",
    "\n",
    "Each vector contains five points, and so we have 25 combinations of hydro and wind."
   ]
  },
  {
   "cell_type": "code",
   "execution_count": 51,
   "id": "89a3fc4b",
   "metadata": {},
   "outputs": [
    {
     "name": "stdout",
     "output_type": "stream",
     "text": [
      "Vector for hydro: [ 45.    58.75  72.5   86.25 100.  ]\n",
      "Vector for wind: [ 0.   13.75 27.5  41.25 55.  ]\n"
     ]
    }
   ],
   "source": [
    "# Defining vectors for wind and hydro\n",
    "vec_hydro = np.linspace(45, 100, 5)\n",
    "vec_wind = np.linspace(0, 55, 5)\n",
    "\n",
    "# printing vectors\n",
    "print(\"Vector for hydro:\", vec_hydro)\n",
    "print(\"Vector for wind:\", vec_wind)\n"
   ]
  },
  {
   "cell_type": "markdown",
   "id": "7f294cdc",
   "metadata": {},
   "source": [
    "## __Storage__"
   ]
  },
  {
   "cell_type": "markdown",
   "id": "b8e45539-341e-4d97-b40b-8b422bf761d0",
   "metadata": {},
   "source": [
    "Secondly, we create two dataframes, 'grid_ECap' and 'grid_SCap', representing electricity capacity and storage capacity, respectively. \n",
    "\n",
    "These dataframes are organized using multi-indexing and are based on specified loops ('loop' and 'loop_2'). \n",
    "\n",
    "Maximum capacity and the initial values for the capacity are defined by 'maxcap', 'E2P', 'v0_ECap', and 'vT_ECap' for electricity, and similarly for storage with 'v0_SCap' and 'vT_SCap'."
   ]
  },
  {
   "cell_type": "code",
   "execution_count": 52,
   "id": "18f396dd-39ae-475f-9268-60685510f1f6",
   "metadata": {
    "tags": []
   },
   "outputs": [],
   "source": [
    "# The \"energy storage to power\"-ratio/storage duration \n",
    "E2P = 5000\n",
    "\n",
    "# defining of minimum electricity\n",
    "min_electricity = vec_hydro[0]+vec_wind[0]\n",
    "# definition of max electricity\n",
    "max_electricity = vec_hydro[4]+vec_wind[0]\n",
    "\n",
    "\n",
    "# defining of minimum storage\n",
    "min_storage = vec_hydro[0]\n",
    "# definition of max storage\n",
    "max_storage = vec_hydro[4]\n",
    "\n",
    "# Defining two loops\n",
    "loop_hydro = pd.Index(range(5), name = 'loop_hydro')\n",
    "loop_wind = pd.Index(range(5), name = 'loop_wind')\n",
    "\n",
    "# defining lower and upper bound for electricity production\n",
    "v0_ECap = pd.Series(min_electricity, index = getTechs(['Storage', 'Standard'], m.db))\n",
    "vT_ECap = pd.Series(max_electricity, index = getTechs(['Storage', 'Standard'], m.db))\n",
    "\n",
    "# defining lower and upper bound for electricity storage by multiplying E2P with the energy production\n",
    "v0_SCap = pd.Series(min_storage, index = getTechs(['Storage'], m.db))*E2P\n",
    "vT_SCap = pd.Series(max_storage, index = v0_SCap.index)*E2P\n",
    "\n",
    "# First grid with electricity bounds (the grid consist of a multi index --> two dimentional)\n",
    "grid_ECap = adjMultiIndex.addGrid(v0_ECap, vT_ECap, loop_hydro, 'GeneratingCapacity').astype(int)\n",
    "\n",
    "# Second grid with a storage cap running through loop 2\n",
    "grid_SCap = adjMultiIndex.addGrid(v0_SCap, vT_SCap, loop_wind,'sCap').astype(int)"
   ]
  },
  {
   "cell_type": "code",
   "execution_count": 53,
   "id": "259d92cd",
   "metadata": {},
   "outputs": [
    {
     "data": {
      "text/plain": [
       "id\n",
       "idES    500000.0\n",
       "dtype: float64"
      ]
     },
     "execution_count": 53,
     "metadata": {},
     "output_type": "execute_result"
    }
   ],
   "source": [
    "vT_SCap"
   ]
  },
  {
   "cell_type": "markdown",
   "id": "9c89371c",
   "metadata": {},
   "source": [
    "Third, we define a grid with two dimentions, so that the grid contains both electricity generation from hydro and wind"
   ]
  },
  {
   "cell_type": "code",
   "execution_count": 54,
   "id": "d105b664",
   "metadata": {},
   "outputs": [],
   "source": [
    "def grid(vec_hydro, vec_wind, index, gridtype='linear', phi=1): \n",
    "\n",
    "    if gridtype == 'linear': # If v0, vT are one dimentional numpy arrays, returns two dimentional array. \n",
    "        return np.linspace(vec_hydro, vec_wind, len(index)) \n",
    "      \n",
    "    elif gridtype=='polynomial': # If scalars, returns one dimentional arrays.\n",
    "        return np.array([vec_hydro+(vec_wind-vec_hydro)*((i-1)/(len(index)-1))**phi for i in range(1,len(index)+1)])"
   ]
  },
  {
   "cell_type": "code",
   "execution_count": 55,
   "id": "27e5d6b7",
   "metadata": {},
   "outputs": [],
   "source": [
    "def addGrid(vec_hydro, vec_wind, index, name, gridtype = 'polynomial', phi = 1, sort_levels=None, sort_index = False): # NB: Make sure that v0 and vT are sorted similarly (if they are defined over indices)\n",
    "    \n",
    "    if sort_index:\n",
    "        vec_hydro = vec_hydro.sort_index()\n",
    "        vec_wind = vec_wind.sort_index()\n",
    "\n",
    "    if isinstance(vec_hydro, pd.Series):\n",
    "        return pd.DataFrame(grid(vec_hydro, vec_wind, index, gridtype=gridtype, phi=phi).T, index = vec_hydro.index, columns = index).stack().rename(name).reorder_levels(index.names+vec_wind.index.names if sort_levels is None else sort_levels)\n",
    "    \n",
    "    else:\n",
    "        return pd.Series(grid(vec_hydro, vec_wind, index, gridtype=gridtype, phi=phi), index=index, name=name)"
   ]
  },
  {
   "cell_type": "markdown",
   "id": "aa8d5991",
   "metadata": {},
   "source": [
    "Then, we converge the vectors into flat indexs "
   ]
  },
  {
   "cell_type": "code",
   "execution_count": 56,
   "id": "bdee305d",
   "metadata": {},
   "outputs": [],
   "source": [
    "import lpCompiler"
   ]
  },
  {
   "cell_type": "code",
   "execution_count": 57,
   "id": "d78ceacb",
   "metadata": {},
   "outputs": [],
   "source": [
    "df_E = lpCompiler.sortAll(addGrid(grid_ECap, grid_ECap, loop_wind, 'GeneratingCap_E').unstack('id'))\n",
    "df_S = lpCompiler.sortAll(addGrid(grid_SCap, grid_SCap, loop_hydro, 'sCap').unstack('id'))\n",
    "\n",
    "# redefining the name of the loops\n",
    "df_E.index = df_E.index.to_flat_index().rename('loop')\n",
    "df_S.index = df_S.index.to_flat_index().rename('loop')\n",
    "\n",
    "# \n",
    "grid_ECap_1d = df_E.stack().rename('GenerationCapacity')\n",
    "grid_SCap_1d = df_S.stack().rename('GenerationCapacity')\n",
    "\n",
    "# Defining the loop as an index\n",
    "loop = df_E.index"
   ]
  },
  {
   "cell_type": "markdown",
   "id": "e9a341ee-1627-447c-9c68-b5f2f4c87220",
   "metadata": {
    "tags": []
   },
   "source": [
    "Then, we extract the following variables:\n",
    "\n",
    "Vi har desuden fjernet alle emmissionsvariable, da vi kun har VE-anlæg"
   ]
  },
  {
   "cell_type": "code",
   "execution_count": 58,
   "id": "0470b0e3-5d5f-44e7-986e-ee7fa17c9a9f",
   "metadata": {
    "tags": []
   },
   "outputs": [],
   "source": [
    "extract = ['marginalSystemCosts','Generation','charge','discharge','capturePrice','marketValueFactor','capacityFactor','marginalEconomicValue','consumerSurplus','producerSurplus','Welfare']"
   ]
  },
  {
   "cell_type": "code",
   "execution_count": 59,
   "id": "a32c7f6f",
   "metadata": {},
   "outputs": [
    {
     "name": "stdout",
     "output_type": "stream",
     "text": [
      "mWh capacity storage is given by:\n"
     ]
    },
    {
     "data": {
      "text/plain": [
       "loop    id  \n",
       "(0, 0)  idES    225000.0\n",
       "(0, 1)  idES    293750.0\n",
       "(0, 2)  idES    362500.0\n",
       "(0, 3)  idES    431250.0\n",
       "(0, 4)  idES    500000.0\n",
       "(1, 0)  idES    225000.0\n",
       "(1, 1)  idES    293750.0\n",
       "(1, 2)  idES    362500.0\n",
       "(1, 3)  idES    431250.0\n",
       "(1, 4)  idES    500000.0\n",
       "(2, 0)  idES    225000.0\n",
       "(2, 1)  idES    293750.0\n",
       "(2, 2)  idES    362500.0\n",
       "(2, 3)  idES    431250.0\n",
       "(2, 4)  idES    500000.0\n",
       "(3, 0)  idES    225000.0\n",
       "(3, 1)  idES    293750.0\n",
       "(3, 2)  idES    362500.0\n",
       "(3, 3)  idES    431250.0\n",
       "(3, 4)  idES    500000.0\n",
       "(4, 0)  idES    225000.0\n",
       "(4, 1)  idES    293750.0\n",
       "(4, 2)  idES    362500.0\n",
       "(4, 3)  idES    431250.0\n",
       "(4, 4)  idES    500000.0\n",
       "Name: GenerationCapacity, dtype: float64"
      ]
     },
     "execution_count": 59,
     "metadata": {},
     "output_type": "execute_result"
    }
   ],
   "source": [
    "print('mWh capacity storage is given by:')\n",
    "grid_SCap_1d"
   ]
  },
  {
   "cell_type": "markdown",
   "id": "92db36be",
   "metadata": {},
   "source": [
    "Her tilføjes en ekstra variable, da storage muligheden også udvider sig grundet udvidelse af vandkraftværk. Derfor tager det også længere tid at tømme reservioret. Man kan se, at de følges ad --> så reservioret ikke tømmes hurtigere pga. udvidelse heraf men tværdigmod"
   ]
  },
  {
   "cell_type": "code",
   "execution_count": 60,
   "id": "a3fe9944",
   "metadata": {},
   "outputs": [],
   "source": [
    "grid_SCap_1d2 = (grid_SCap_1d*5000).rename('SCap')"
   ]
  },
  {
   "cell_type": "code",
   "execution_count": 61,
   "id": "baa644f6",
   "metadata": {},
   "outputs": [
    {
     "data": {
      "text/plain": [
       "Index([(0, 0), (0, 1), (0, 2), (0, 3), (0, 4), (1, 0), (1, 1), (1, 2), (1, 3),\n",
       "       (1, 4), (2, 0), (2, 1), (2, 2), (2, 3), (2, 4), (3, 0), (3, 1), (3, 2),\n",
       "       (3, 3), (3, 4), (4, 0), (4, 1), (4, 2), (4, 3), (4, 4)],\n",
       "      dtype='object', name='loop')"
      ]
     },
     "execution_count": 61,
     "metadata": {},
     "output_type": "execute_result"
    }
   ],
   "source": [
    "loop"
   ]
  },
  {
   "cell_type": "markdown",
   "id": "19ceb06e-0fbc-4332-af19-79529edc13ff",
   "metadata": {
    "tags": []
   },
   "source": [
    "Finally, we run the solutions based on the 25 combinations"
   ]
  },
  {
   "cell_type": "code",
   "execution_count": 62,
   "id": "ed7d8bc4-55f6-41ce-81dd-a38ca8d360d4",
   "metadata": {
    "tags": []
   },
   "outputs": [],
   "source": [
    "solution = m.loopSolveExtract(loop, [grid_ECap_1d, grid_SCap_1d], extract)"
   ]
  },
  {
   "cell_type": "code",
   "execution_count": 63,
   "id": "28e8b5ba",
   "metadata": {},
   "outputs": [
    {
     "data": {
      "text/plain": [
       "loop\n",
       "(0, 0)    7.199521e+06\n",
       "(0, 1)    7.199521e+06\n",
       "(0, 2)    7.199521e+06\n",
       "(0, 3)    7.199521e+06\n",
       "(0, 4)    7.199521e+06\n",
       "(1, 0)    7.199521e+06\n",
       "(1, 1)    7.199521e+06\n",
       "(1, 2)    7.199521e+06\n",
       "(1, 3)    7.199521e+06\n",
       "(1, 4)    7.199521e+06\n",
       "(2, 0)    7.199521e+06\n",
       "(2, 1)    7.199521e+06\n",
       "(2, 2)    7.199521e+06\n",
       "(2, 3)    7.199521e+06\n",
       "(2, 4)    7.199521e+06\n",
       "(3, 0)    7.199521e+06\n",
       "(3, 1)    7.199521e+06\n",
       "(3, 2)    7.199521e+06\n",
       "(3, 3)    7.199521e+06\n",
       "(3, 4)    7.199521e+06\n",
       "(4, 0)    7.199521e+06\n",
       "(4, 1)    7.199521e+06\n",
       "(4, 2)    7.199521e+06\n",
       "(4, 3)    7.199521e+06\n",
       "(4, 4)    7.199521e+06\n",
       "dtype: float64"
      ]
     },
     "execution_count": 63,
     "metadata": {},
     "output_type": "execute_result"
    }
   ],
   "source": [
    "solution['Welfare'] "
   ]
  },
  {
   "cell_type": "code",
   "execution_count": 64,
   "id": "236b3fa5",
   "metadata": {},
   "outputs": [
    {
     "data": {
      "text/plain": [
       "h     loop  \n",
       "1     (0, 0)    2.0\n",
       "      (0, 1)    2.0\n",
       "      (0, 2)    2.0\n",
       "      (0, 3)    2.0\n",
       "      (0, 4)    2.0\n",
       "               ... \n",
       "8760  (4, 0)    2.0\n",
       "      (4, 1)    2.0\n",
       "      (4, 2)    2.0\n",
       "      (4, 3)    2.0\n",
       "      (4, 4)    2.0\n",
       "Length: 219000, dtype: float64"
      ]
     },
     "execution_count": 64,
     "metadata": {},
     "output_type": "execute_result"
    }
   ],
   "source": [
    "solution['marginalSystemCosts']"
   ]
  },
  {
   "cell_type": "code",
   "execution_count": 65,
   "id": "b84e42ed",
   "metadata": {},
   "outputs": [
    {
     "data": {
      "text/plain": [
       "<Axes: xlabel='h'>"
      ]
     },
     "execution_count": 65,
     "metadata": {},
     "output_type": "execute_result"
    },
    {
     "data": {
      "image/png": "[encoded data removed]",
      "text/plain": [
       "<Figure size 640x480 with 1 Axes>"
      ]
     },
     "metadata": {},
     "output_type": "display_data"
    }
   ],
   "source": [
    "(m.hourlyLoad - m.hourlyGeneratingCap.xs('idES')).plot()"
   ]
  },
  {
   "cell_type": "code",
   "execution_count": 66,
   "id": "1a3bc2f1",
   "metadata": {},
   "outputs": [
    {
     "data": {
      "text/plain": [
       "h\n",
       "1       0.0\n",
       "2       0.0\n",
       "3       0.0\n",
       "4       0.0\n",
       "5       0.0\n",
       "       ... \n",
       "8756    0.0\n",
       "8757    0.0\n",
       "8758    0.0\n",
       "8759    0.0\n",
       "8760    0.0\n",
       "Length: 8760, dtype: float64"
      ]
     },
     "execution_count": 66,
     "metadata": {},
     "output_type": "execute_result"
    }
   ],
   "source": [
    "# bør være 0, da vi arbejder med vandreservior og ikke tilbagefører vandet\n",
    "solution['charge'].loc[:, 'idES', (2,2)]"
   ]
  },
  {
   "cell_type": "code",
   "execution_count": 67,
   "id": "39430266",
   "metadata": {},
   "outputs": [
    {
     "data": {
      "text/plain": [
       "h\n",
       "1       0.000000\n",
       "2       0.000000\n",
       "3       0.000000\n",
       "4       0.000000\n",
       "5       0.000000\n",
       "          ...   \n",
       "8756    0.000000\n",
       "8757    0.000000\n",
       "8758    0.000000\n",
       "8759    0.008391\n",
       "8760    0.000000\n",
       "Length: 8760, dtype: float64"
      ]
     },
     "execution_count": 67,
     "metadata": {},
     "output_type": "execute_result"
    }
   ],
   "source": [
    "# bør altid være positiv, da vi har en minimum værdi af 45 MW\n",
    "solution['discharge'].loc[:, 'idES', (2,2)]"
   ]
  },
  {
   "cell_type": "markdown",
   "metadata": {},
   "source": [
    "# Appendix"
   ]
  },
  {
   "cell_type": "markdown",
   "metadata": {},
   "source": [
    "The table below translates the names used in the data to the symbols used in the model. \n",
    "\n",
    "| Name in excel file | Model symbol |\n",
    "|:--------|:--------:|\n",
    "| id | $i$ | \n",
    "| BFt | $j$ |\n",
    "| h | $h$ |\n",
    "|  FuelMix   |  $\\mu_{i,j}$   |\n",
    "|  GeneratingCapacity   | $q_i$   |\n",
    "|  OtherMC   | $c_i^{oth}$   |\n",
    "| FuelPrice | $p_j^f$ |\n",
    "| EmissionIntensity | $\\phi_j$ |\n",
    "| MWP | $\\mu$ |\n",
    "| LoadVariation $\\times$ Load | $D_h$ |\n",
    "| CapVariation | $\\gamma_{i,h} $ |\n",
    "| sCap | $\\overline{S}_i$ |\n",
    "| effS | $\\sqrt{\\eta_i}$ |\n",
    "\n",
    "Note that $c$ is also an index for the consumer type in the data file. In the model in [**Part 1**](#Part-1:-Analytical-Exercises), however, there is only a single representative consumer. But since $c=c1$ always, this is equivalent.\n",
    "\n",
    "The following section imports the data:"
   ]
  }
 ],
 "metadata": {
  "kernelspec": {
   "display_name": "Python 3 (ipykernel)",
   "language": "python",
   "name": "python3"
  },
  "language_info": {
   "codemirror_mode": {
    "name": "ipython",
    "version": 3
   },
   "file_extension": ".py",
   "mimetype": "text/x-python",
   "name": "python",
   "nbconvert_exporter": "python",
   "pygments_lexer": "ipython3",
   "version": "3.9.16"
  }
 },
 "nbformat": 4,
 "nbformat_minor": 5
}
